{
 "cells": [
  {
   "cell_type": "code",
   "execution_count": 13,
   "id": "c8147508",
   "metadata": {},
   "outputs": [],
   "source": [
    "from PIL import Image, ImageDraw, ImageFont\n",
    "\n",
    "def generate_meme(image_path, text, font_path, text_color, font_size, shadow_offset, shadow_color):\n",
    "    image = Image.open(image_path)\n",
    "\n",
    "    # Create a blank image with an alpha channel\n",
    "    blank_image = Image.new(\"RGBA\", image.size)\n",
    "    draw = ImageDraw.Draw(blank_image)\n",
    "\n",
    "    font = ImageFont.truetype(font_path, font_size)\n",
    "\n",
    "    lines = text.split(\"\\n\")\n",
    "\n",
    "    # Calculate the height of each line\n",
    "    line_heights = [draw.textbbox((0, 0), line, font=font)[3] - draw.textbbox((0, 0), line, font=font)[1] for line in lines]\n",
    "    text_height = sum(line_heights)\n",
    "\n",
    "    image_center = (image.width // 2, image.height * 2 // 3)\n",
    "    y_start = image.height - text_height - image.height // 6\n",
    "\n",
    "    # Add shadow to text\n",
    "    shadow_y = y_start\n",
    "    for line, height in zip(lines, line_heights):\n",
    "        text_width = draw.textbbox((0, 0), line, font=font)[2] - draw.textbbox((0, 0), line, font=font)[0]\n",
    "        text_x = image_center[0] - text_width // 2 + shadow_offset[0]\n",
    "        shadow_position = (text_x, shadow_y + shadow_offset[1])\n",
    "        draw.text(shadow_position, line, fill=shadow_color, font=font)\n",
    "        shadow_y += height\n",
    "\n",
    "    # Add main text\n",
    "    text_y = y_start\n",
    "    for line, height in zip(lines, line_heights):\n",
    "        text_width = draw.textbbox((0, 0), line, font=font)[2] - draw.textbbox((0, 0), line, font=font)[0]\n",
    "        text_x = image_center[0] - text_width // 2\n",
    "        text_position = (text_x, text_y)\n",
    "        draw.text(text_position, line, fill=text_color, font=font)\n",
    "        text_y += height\n",
    "\n",
    "    # Combine the original image with the text\n",
    "    final_image = Image.alpha_composite(image.convert(\"RGBA\"), blank_image)\n",
    "\n",
    "    # Convert the final image to RGB mode before saving as JPEG\n",
    "    final_image = final_image.convert(\"RGB\")\n",
    "\n",
    "    return final_image\n",
    "\n",
    "image_path = r\"C:\\Users\\hp\\OneDrive\\Pictures\\25.JPG\"\n",
    "text = \"I Am Amar\\n Data Engineer\"\n",
    "font_path = \"impact/impact.ttf\"\n",
    "font_size = 50\n",
    "text_color = \"white\"\n",
    "shadow_offset = (4, 4)\n",
    "shadow_color = \"black\"\n",
    "\n",
    "meme = generate_meme(image_path, text, font_path, text_color, font_size, shadow_offset, shadow_color)\n",
    "meme.show()\n",
    "meme.save(r\"C:\\Users\\hp\\OneDrive\\Pictures\\Saved Pictures\\blank.jpg\")\n"
   ]
  },
  {
   "cell_type": "code",
   "execution_count": null,
   "id": "3d7b71ab",
   "metadata": {},
   "outputs": [],
   "source": []
  }
 ],
 "metadata": {
  "kernelspec": {
   "display_name": "Python 3 (ipykernel)",
   "language": "python",
   "name": "python3"
  },
  "language_info": {
   "codemirror_mode": {
    "name": "ipython",
    "version": 3
   },
   "file_extension": ".py",
   "mimetype": "text/x-python",
   "name": "python",
   "nbconvert_exporter": "python",
   "pygments_lexer": "ipython3",
   "version": "3.9.7"
  }
 },
 "nbformat": 4,
 "nbformat_minor": 5
}
